{
 "cells": [
  {
   "cell_type": "markdown",
   "metadata": {},
   "source": [
    "## 2020年2月15日"
   ]
  },
  {
   "cell_type": "code",
   "execution_count": 14,
   "metadata": {},
   "outputs": [
    {
     "name": "stdout",
     "output_type": "stream",
     "text": [
      "2\n",
      "1\n"
     ]
    }
   ],
   "source": [
    "# 商\n",
    "print(7 // 3)\n",
    "\n",
    "# 余り\n",
    "print(7 % 3)"
   ]
  },
  {
   "cell_type": "code",
   "execution_count": 2,
   "metadata": {},
   "outputs": [
    {
     "name": "stdout",
     "output_type": "stream",
     "text": [
      "5\n"
     ]
    }
   ],
   "source": [
    "ans = 0\n",
    "\n",
    "# ans = ans +5\n",
    "# ans = 0 + 5\n",
    "ans += 5\n",
    "\n",
    "print(ans)"
   ]
  },
  {
   "cell_type": "code",
   "execution_count": 4,
   "metadata": {},
   "outputs": [
    {
     "name": "stdout",
     "output_type": "stream",
     "text": [
      "1\n",
      "15\n"
     ]
    }
   ],
   "source": [
    "# https://atcoder.jp/contests/joi2008yo/tasks/joi2008yo_a\n",
    "# おつり\n",
    "\n",
    "n = int(input())\n",
    "change = 1000 - n\n",
    "\n",
    "# おつりの硬貨の枚数\n",
    "ans = 0\n",
    "for x in [500, 100, 50, 10, 5, 1]:\n",
    "    ans += change // x\n",
    "    change = change % x\n",
    "\n",
    "print(ans)"
   ]
  },
  {
   "cell_type": "code",
   "execution_count": 5,
   "metadata": {},
   "outputs": [],
   "source": [
    "# 金額から硬貨で支払う時の最小枚数を計算する関数\n",
    "def count_change_sheets(change):\n",
    "    ans = 0\n",
    "    for x in [500, 100, 50, 10, 5, 1]:\n",
    "        ans += change // x\n",
    "        change = change % x\n",
    "    return ans"
   ]
  },
  {
   "cell_type": "code",
   "execution_count": 6,
   "metadata": {},
   "outputs": [
    {
     "data": {
      "text/plain": [
       "15"
      ]
     },
     "execution_count": 6,
     "metadata": {},
     "output_type": "execute_result"
    }
   ],
   "source": [
    "count_change_sheets(999)"
   ]
  },
  {
   "cell_type": "code",
   "execution_count": 7,
   "metadata": {},
   "outputs": [
    {
     "name": "stdout",
     "output_type": "stream",
     "text": [
      "380\n",
      "4\n"
     ]
    }
   ],
   "source": [
    "n = int(input())\n",
    "print(count_change_sheets(1000 - n))"
   ]
  },
  {
   "cell_type": "code",
   "execution_count": null,
   "metadata": {},
   "outputs": [],
   "source": []
  },
  {
   "cell_type": "code",
   "execution_count": null,
   "metadata": {},
   "outputs": [],
   "source": []
  }
 ],
 "metadata": {
  "kernelspec": {
   "display_name": "Python 3",
   "language": "python",
   "name": "python3"
  },
  "language_info": {
   "codemirror_mode": {
    "name": "ipython",
    "version": 3
   },
   "file_extension": ".py",
   "mimetype": "text/x-python",
   "name": "python",
   "nbconvert_exporter": "python",
   "pygments_lexer": "ipython3",
   "version": "3.7.2"
  }
 },
 "nbformat": 4,
 "nbformat_minor": 2
}
