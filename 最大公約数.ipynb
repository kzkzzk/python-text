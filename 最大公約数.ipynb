{
 "cells": [
  {
   "cell_type": "code",
   "execution_count": 2,
   "metadata": {},
   "outputs": [
    {
     "name": "stdout",
     "output_type": "stream",
     "text": [
      "answer= 6\n"
     ]
    }
   ],
   "source": [
    "a = 12\n",
    "b = 6\n",
    "\n",
    "answer = 0\n",
    "\n",
    "for i in range(6):\n",
    "    # iは0 ~5なので、i+1で割る\n",
    "    c = (a %(i+1)) # aをi+1で割った余り\n",
    "    d = (b %(i+1)) # bをi+1で割った余り\n",
    "    if c == 0 and d == 0: # aもbもi+1で割り切れるか？\n",
    "        if answer < (i+1):\n",
    "            answer = i+1\n",
    "        \n",
    "print('answer=', answer)"
   ]
  },
  {
   "cell_type": "code",
   "execution_count": 3,
   "metadata": {},
   "outputs": [],
   "source": []
  },
  {
   "cell_type": "code",
   "execution_count": 4,
   "metadata": {},
   "outputs": [
    {
     "data": {
      "text/plain": [
       "6"
      ]
     },
     "execution_count": 4,
     "metadata": {},
     "output_type": "execute_result"
    }
   ],
   "source": [
    "gcd(12, 18)"
   ]
  },
  {
   "cell_type": "code",
   "execution_count": null,
   "metadata": {},
   "outputs": [],
   "source": []
  }
 ],
 "metadata": {
  "kernelspec": {
   "display_name": "Python 3",
   "language": "python",
   "name": "python3"
  },
  "language_info": {
   "codemirror_mode": {
    "name": "ipython",
    "version": 3
   },
   "file_extension": ".py",
   "mimetype": "text/x-python",
   "name": "python",
   "nbconvert_exporter": "python",
   "pygments_lexer": "ipython3",
   "version": "3.7.2"
  }
 },
 "nbformat": 4,
 "nbformat_minor": 2
}
