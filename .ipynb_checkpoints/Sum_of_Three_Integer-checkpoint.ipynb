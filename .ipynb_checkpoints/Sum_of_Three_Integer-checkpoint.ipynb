{
 "cells": [
  {
   "cell_type": "code",
   "execution_count": 1,
   "metadata": {},
   "outputs": [
    {
     "name": "stdout",
     "output_type": "stream",
     "text": [
      "2 2\n",
      "6\n"
     ]
    }
   ],
   "source": [
    "k, s = map(int, input().split())\n",
    "\n",
    "ans = 0\n",
    "\n",
    "#  0 <= x <= k\n",
    "#  0 <= y <= k\n",
    "#  0 <= z <= k  ①\n",
    "\n",
    "# range(k+1) => 0, 1, 2, ..., k\n",
    "# 0 <= x <= k\n",
    "for x in range(k+1):\n",
    "    \n",
    "    # range(k+1) => 0, 1, 2, ..., k\n",
    "    # 0 <= x <= k\n",
    "    for y in range(k+1):\n",
    "        \n",
    "        #  x + y + z = s\n",
    "        #  z = s - x - y\n",
    "        #  ①を使うと、\n",
    "        #  0 <= s - x -y <= k\n",
    "        if 0<= s - x - y <= k:\n",
    "            # つまり、zが0~kに入っていれば１通り完成\n",
    "            ans += 1\n",
    "\n",
    "print(ans)"
   ]
  },
  {
   "cell_type": "code",
   "execution_count": 2,
   "metadata": {},
   "outputs": [
    {
     "name": "stdout",
     "output_type": "stream",
     "text": [
      "2 2\n"
     ]
    },
    {
     "data": {
      "text/plain": [
       "'2 2'"
      ]
     },
     "execution_count": 2,
     "metadata": {},
     "output_type": "execute_result"
    }
   ],
   "source": [
    "input()"
   ]
  },
  {
   "cell_type": "code",
   "execution_count": 4,
   "metadata": {},
   "outputs": [
    {
     "name": "stdout",
     "output_type": "stream",
     "text": [
      "2 2\n"
     ]
    },
    {
     "data": {
      "text/plain": [
       "['2', '2']"
      ]
     },
     "execution_count": 4,
     "metadata": {},
     "output_type": "execute_result"
    }
   ],
   "source": [
    "# https://note.nkmk.me/python-split-rsplit-splitlines-re/\n",
    "input().split()"
   ]
  },
  {
   "cell_type": "code",
   "execution_count": 6,
   "metadata": {},
   "outputs": [
    {
     "name": "stdout",
     "output_type": "stream",
     "text": [
      "2 2\n"
     ]
    },
    {
     "data": {
      "text/plain": [
       "[2, 2]"
      ]
     },
     "execution_count": 6,
     "metadata": {},
     "output_type": "execute_result"
    }
   ],
   "source": [
    "# http://mashblog.hatenablog.com/entry/2017/05/03/104346\n",
    "list(map(int, input().split()))"
   ]
  },
  {
   "cell_type": "code",
   "execution_count": 8,
   "metadata": {},
   "outputs": [
    {
     "name": "stdout",
     "output_type": "stream",
     "text": [
      "2 2\n",
      "2\n",
      "2\n"
     ]
    }
   ],
   "source": [
    "k, s = map(int, input().split())\n",
    "print(k)\n",
    "print(s)"
   ]
  },
  {
   "cell_type": "code",
   "execution_count": null,
   "metadata": {},
   "outputs": [],
   "source": []
  }
 ],
 "metadata": {
  "kernelspec": {
   "display_name": "Python 3",
   "language": "python",
   "name": "python3"
  },
  "language_info": {
   "codemirror_mode": {
    "name": "ipython",
    "version": 3
   },
   "file_extension": ".py",
   "mimetype": "text/x-python",
   "name": "python",
   "nbconvert_exporter": "python",
   "pygments_lexer": "ipython3",
   "version": "3.7.3"
  }
 },
 "nbformat": 4,
 "nbformat_minor": 4
}
