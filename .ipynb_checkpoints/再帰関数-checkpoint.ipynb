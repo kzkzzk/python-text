{
 "cells": [
  {
   "cell_type": "code",
   "execution_count": 3,
   "metadata": {},
   "outputs": [],
   "source": [
    "def fibo(n):\n",
    "    if n == 1:\n",
    "        return 1\n",
    "    if n == 2:\n",
    "        return 1\n",
    "    \n",
    "    return fibo(n-1) + fibo(n-2)"
   ]
  },
  {
   "cell_type": "code",
   "execution_count": 4,
   "metadata": {},
   "outputs": [
    {
     "data": {
      "text/plain": [
       "55"
      ]
     },
     "execution_count": 4,
     "metadata": {},
     "output_type": "execute_result"
    }
   ],
   "source": [
    "fibo(10)"
   ]
  },
  {
   "cell_type": "code",
   "execution_count": 1,
   "metadata": {},
   "outputs": [],
   "source": [
    "def fibo_memo(n):\n",
    "    # 「0」が入った箱をn個用意する！\n",
    "    # ex) n = 10 なら 10個用意！\n",
    "    memo = [0]*n\n",
    "    \n",
    "    def fibo(n):\n",
    "        if n == 1:\n",
    "            memo[0] = 1\n",
    "            return memo[0]\n",
    "        if n == 2:\n",
    "            memo[1] = 1\n",
    "            return memo[1]\n",
    "        \n",
    "        # memoに書かれているかを確認\n",
    "        if memo[n-1] != 0:\n",
    "            # listの並びは0から始まるので、(n-1)\n",
    "            return memo[n-1]\n",
    "        \n",
    "        memo[n-1] = fibo(n-1) + fibo(n-2)\n",
    "        return memo[n-1]\n",
    "    \n",
    "    return fibo(n)"
   ]
  },
  {
   "cell_type": "code",
   "execution_count": 2,
   "metadata": {},
   "outputs": [
    {
     "data": {
      "text/plain": [
       "55"
      ]
     },
     "execution_count": 2,
     "metadata": {},
     "output_type": "execute_result"
    }
   ],
   "source": [
    "fibo_memo(10)"
   ]
  },
  {
   "cell_type": "code",
   "execution_count": null,
   "metadata": {},
   "outputs": [],
   "source": []
  }
 ],
 "metadata": {
  "kernelspec": {
   "display_name": "Python 3",
   "language": "python",
   "name": "python3"
  },
  "language_info": {
   "codemirror_mode": {
    "name": "ipython",
    "version": 3
   },
   "file_extension": ".py",
   "mimetype": "text/x-python",
   "name": "python",
   "nbconvert_exporter": "python",
   "pygments_lexer": "ipython3",
   "version": "3.7.2"
  }
 },
 "nbformat": 4,
 "nbformat_minor": 2
}
